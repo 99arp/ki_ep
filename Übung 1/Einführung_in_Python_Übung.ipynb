{
 "cells": [
  {
   "cell_type": "markdown",
   "metadata": {},
   "source": [
    "# Übung 1: Einführung in Python für LRT (Luft- und Raumfahrttechnik)\n",
    "\n",
    "\n",
    "Dieses Notebook ist eine kompakte, praxisnahe Einführung in **Python**.\n",
    "Die **Variablennamen und der Code** bleiben **auf Englisch**.\n",
    "\n",
    "## Inhalte\n",
    "- Basissyntax: Variablen, Datentypen, Statements, Operatoren\n",
    "- Kontrollstrukturen: `if`, `for`, `while` \n",
    "- Collections, Comprehensions, and Iterations\n",
    "- Funktionen und Rückgabewerte\n",
    "- Klassen\n",
    "- **NumPy**: Arrays, Vektorisierung, lineare Algebra\n",
    "- **Matplotlib**: einfache Plots \n",
    "\n",
    "\n",
    "\n"
   ]
  },
  {
   "cell_type": "markdown",
   "id": "71289184",
   "metadata": {},
   "source": [
    "\n",
    "Dieses Notebook ist eine kompakte, praxisnahe Einführung in **Python**.\n",
    "Die **Variablennamen und der Code** bleiben **auf Englisch**.\n",
    "\n",
    "## Inhalte\n",
    "- Basissyntax: Variablen, Datentypen, Statements, Operatoren\n",
    "- Kontrollstrukturen: `if`, `for`, `while` \n",
    "- Collections, Comprehensions, and Iterations\n",
    "- Funktionen und Rückgabewerte\n",
    "- Klassen\n",
    "- **NumPy**: Arrays, Vektorisierung, lineare Algebra\n",
    "- **Matplotlib**: einfache Plots \n",
    "\n",
    "\n",
    "\n"
   ]
  },
  {
   "cell_type": "markdown",
   "metadata": {},
   "source": [
    "## 1) Python-Basics\n",
    "\n",
    "### Variablen & Datentypen\n",
    "- Dynamisch typisiert: Man muss den Typ nicht vorher angeben.\n",
    "- Wichtige Grundtypen: `int`, `float`, `str`, `bool`\n",
    "  - int -- Ganzzahlen\n",
    "  - float -- Gleitkommazahlen\n",
    "  - str -- Unicode-Text\n",
    "  - bool -- Wahrheitswerte/ Truth Value\n",
    "- Collections: `list`, `tuple`, `dict`, `set` Was bedeuten diese Types. Erkären Sie in Ihren eigenen Wörtern. \n",
    "\n",
    "> **Tipp:** Mit `type(x)` prüft man den Datentyp.\n"
   ]
  },
  {
   "cell_type": "code",
   "execution_count": 1,
   "id": "cf3ebdeb",
   "metadata": {},
   "outputs": [
    {
     "name": "stdout",
     "output_type": "stream",
     "text": [
      "42 <class 'int'>\n",
      "3.1415 <class 'float'>\n",
      "Flight Dynamics <class 'str'>\n",
      "True <class 'bool'>\n"
     ]
    }
   ],
   "source": [
    "# Beispiele für Grundtypen\n",
    "# Die Werte werden mit '=' einer Variablen zugewiesen.\n",
    "# Der Typ der Variable wird mit type() ausgegeben.\n",
    "a_int = 42\n",
    "b_float = 3.1415\n",
    "c_str = \"Flight Dynamics\"\n",
    "d_bool = True\n",
    "\n",
    "print(a_int, type(a_int))\n",
    "print(b_float, type(b_float))\n",
    "print(c_str, type(c_str))\n",
    "print(d_bool, type(d_bool))"
   ]
  },
  {
   "cell_type": "code",
   "execution_count": null,
   "id": "56e615ba",
   "metadata": {},
   "outputs": [
    {
     "name": "stdout",
     "output_type": "stream",
     "text": [
      "first item on the list: Regelungstechnik\n",
      "last item on the list: Schaltungstechnik\n",
      "number of items in the list: 3\n"
     ]
    }
   ],
   "source": [
    "subjects  = [\"Regelungstechnik\", \"Flugmechanik\", \"Schaltungstechnik\"] \n",
    "print('first item on the list:', subjects[0])\n",
    "print('last item on the list:', subjects[-1])\n",
    "print('number of items in the list:', len(subjects))\n",
    "\n",
    "student_subjects= {\"Mat\": subjects[0], \"Sean\": subjects[1]}\n",
    "print('Students and their favorite subjects:', student_subjects)\n"
   ]
  },
  {
   "cell_type": "markdown",
   "id": "7585390f",
   "metadata": {},
   "source": [
    "Übung: \n",
    "1. Fügen Sie das Fach 'Angewandte KI' in die Liste mit der Methode \"append\" hinzu. Die Dokumentation für verschiedende Methoden zum Listenobjekt finden sie [hier]( https://py-tutorial-de.readthedocs.io/de/python-3.3/datastructures.html#mehr-zu-listen)\n",
    "2. Sortieren Sie die Fächer nach Anfangsbuchstaben."
   ]
  },
  {
   "cell_type": "code",
   "execution_count": 3,
   "id": "fc5e2f94",
   "metadata": {},
   "outputs": [],
   "source": [
    "# Lösung \n"
   ]
  },
  {
   "cell_type": "markdown",
   "id": "2d9f4ddb",
   "metadata": {},
   "source": [
    "### 1.1) Statements\n",
    "\n",
    "Ein Statement ist eine vollständige Anweisung, die der Interpreter ausführt. \n",
    "\n",
    "``` python\n",
    "\n",
    "# einfache statements, eine Zeile\n",
    "import math\n",
    "from library import function\n",
    "print(\"hello\")\n",
    "in \n",
    "is\n",
    "\n",
    "# komplexe Statements, ein Block\n",
    "\n",
    "if/elseif/else\n",
    "for \n",
    "with \n",
    "def \n",
    "class\n",
    "\n",
    "```"
   ]
  },
  {
   "cell_type": "code",
   "execution_count": 4,
   "id": "3ddc34a2",
   "metadata": {},
   "outputs": [],
   "source": [
    "# Übung: Was ist eine Expression? "
   ]
  },
  {
   "cell_type": "code",
   "execution_count": 5,
   "metadata": {},
   "outputs": [
    {
     "name": "stdout",
     "output_type": "stream",
     "text": [
      "42 <class 'int'>\n",
      "3.1415 <class 'float'>\n",
      "Flight Dynamics <class 'str'>\n",
      "True <class 'bool'>\n",
      "[1, 2, 3] <class 'list'>\n",
      "(10.0, 20.0) <class 'tuple'>\n",
      "{'mass': 500.0, 'thrust': 12000.0} <class 'dict'>\n",
      "{1, 2, 3} <class 'set'>\n"
     ]
    }
   ],
   "source": [
    "# Beispiele für Grundtypen\n",
    "a_int = 42\n",
    "b_float = 3.1415\n",
    "c_str = \"Flight Dynamics\"\n",
    "d_bool = True\n",
    "\n",
    "print(a_int, type(a_int))\n",
    "print(b_float, type(b_float))\n",
    "print(c_str, type(c_str))\n",
    "print(d_bool, type(d_bool))\n",
    "\n",
    "# Collections \n",
    "numbers_list = [1, 2, 3]\n",
    "coords_tuple = (10.0, 20.0)\n",
    "params_dict = {\"mass\": 500.0, \"thrust\": 12000.0}\n",
    "unique_set = {1, 2, 2, 3}\n",
    "\n",
    "print(numbers_list, type(numbers_list))\n",
    "print(coords_tuple, type(coords_tuple))\n",
    "print(params_dict, type(params_dict))\n",
    "print(unique_set, type(unique_set))\n"
   ]
  },
  {
   "cell_type": "markdown",
   "metadata": {},
   "source": [
    "### 1.2) Operatoren & Typecasting (Typumwandlung)\n",
    "- Arithmetik: `+ - * / // % **`\n",
    "- Typumwandlung: `int(x)`, `float(x)`, `str(x)`\n",
    "- Vergleich: `== != < <= > >=`\n",
    "- Logik: `and or not`\n",
    "\n"
   ]
  },
  {
   "cell_type": "code",
   "execution_count": 6,
   "metadata": {},
   "outputs": [
    {
     "name": "stdout",
     "output_type": "stream",
     "text": [
      "add: 10\n",
      "pow: 343\n",
      "div (float): 2.3333333333333335\n",
      "div (floor): 2\n",
      "mod: 1\n"
     ]
    }
   ],
   "source": [
    "x = 7\n",
    "y = 3\n",
    "\n",
    "print(\"add:\", x + y)\n",
    "print(\"pow:\", x ** y)\n",
    "print(\"div (float):\", x / y)\n",
    "print(\"div (floor):\", x // y)\n",
    "print(\"mod:\", x % y)\n",
    "\n",
    "\n"
   ]
  },
  {
   "cell_type": "markdown",
   "id": "fbc1582f",
   "metadata": {},
   "source": [
    "Definieren Sie eine Variable namens val mit einem Wert von 12.3657.  Konvertieren Sie anschließend val in einen Integer und weisen Sie das Ergebnis der Variable `val_int` zu. Geben Sie `val_int` und dessen Typ aus. Was merken Sie?"
   ]
  },
  {
   "cell_type": "code",
   "execution_count": 7,
   "id": "f956060b",
   "metadata": {},
   "outputs": [],
   "source": [
    "#lösung\n"
   ]
  },
  {
   "cell_type": "markdown",
   "id": "fc6781a5",
   "metadata": {},
   "source": [
    "Definieren Sie zwei boolesche Variablen `a` und `b` mit Werten `True` und `False`. Geben Sie die Ergebnisse der logischen Operationen `a and b`, `a or b`, `not a`, `not b` aus. Definieren Sie zwei Integer-Variablen `val_one = 10` und `val_two = 3`. Schreiben Sie eine Expression, die überprüft, ob `val_one` größer als `val_two` ist. Weisen Sie das Ergebnis einer Variable `is_greater` zu und geben Sie diese aus."
   ]
  },
  {
   "cell_type": "code",
   "execution_count": 8,
   "id": "7244fe7c",
   "metadata": {},
   "outputs": [],
   "source": [
    "# lösung \n",
    "\n",
    "\n"
   ]
  },
  {
   "cell_type": "markdown",
   "metadata": {},
   "source": [
    "### 2) Kontrollstrukturen: `if`, `for`, `while`\n",
    "- Bedingungen steuern den Programmfluss\n",
    "- Schleifen wiederholen Codeblöcke\n",
    "\n"
   ]
  },
  {
   "cell_type": "code",
   "execution_count": 9,
   "metadata": {},
   "outputs": [
    {
     "name": "stdout",
     "output_type": "stream",
     "text": [
      " x is equal to 10\n",
      "squares: [0, 1, 4, 9, 16]\n",
      "count: 10\n"
     ]
    }
   ],
   "source": [
    "# if/elif/else\n",
    "\n",
    "x = 10\n",
    "if x < 10:\n",
    "    print(f\" x is less than 10\") \n",
    "elif x == 10:\n",
    "    print(f\" x is equal to 10\")\n",
    "else:\n",
    "    print(\" x is greater than 10\") \n",
    "\n",
    "\n",
    "# for-Schleife. Quadratzahlen zwischen 0 und 4\n",
    "squares = []\n",
    "for i in range(5):\n",
    "    squares.append(i*i)\n",
    "print(\"squares:\", squares)\n",
    "\n",
    "# while-Schleife\n",
    "count = 0\n",
    "acc = 1\n",
    "while acc < 100:\n",
    "    acc += 10 # Kurzhand für acc = acc + 10\n",
    "    count += 1\n",
    "print(\"count:\", count)\n",
    "\n",
    "\n"
   ]
  },
  {
   "cell_type": "markdown",
   "id": "91dd027a",
   "metadata": {},
   "source": [
    "### 3) Collections, Comprehensions, and Iterations\n",
    "\n",
    "- Collections beziehen sich auf Datentypen, die mehrere Werte speichern können. Die vier grundlegenden Collection-Typen in Python sind: List, Tuple, Set und Dictionary.\n",
    "- Comprehensions sind eine kurzere Syntax, um Collections zu erstellen und sind oft einfacher zu lesen als herkömmliche Schleifen.\n",
    "- Iteration bezieht sich auf den Prozess des Durchlaufens der Elemente einer Collection, oft mit Hilfe von Schleifen wie `for`."
   ]
  },
  {
   "cell_type": "code",
   "execution_count": 10,
   "id": "2d3b23d1",
   "metadata": {},
   "outputs": [],
   "source": [
    "# Collections, Comprehensions, and Iterations\n",
    "\n",
    "x = [1, 2, 3, 4, 5] # List\n",
    "y = (10, 20, 30) # Tuple\n",
    "z = {100, 200, 300} # Set\n",
    "name_to_age = {\"Max\": 25, \"Anna\": 30, \"Joe\": 30} # Dictionary"
   ]
  },
  {
   "cell_type": "markdown",
   "id": "d22cfdd7",
   "metadata": {},
   "source": [
    "Was ist der Unterschied zwischen List and Tuple? Welche Eigenschaft hat die Collection \"Set\"? \n",
    "Konvertieren Sie die Liste x = [1, 1, 2, 4, 4, \"hello\", \"world\"] in ein Set.  Nehmen Sie Google zur Hilfe. "
   ]
  },
  {
   "cell_type": "code",
   "execution_count": 11,
   "id": "4a11e50a",
   "metadata": {},
   "outputs": [],
   "source": [
    "# Lösung \n"
   ]
  },
  {
   "cell_type": "markdown",
   "id": "fc2f6e1e",
   "metadata": {},
   "source": [
    "Ersetzen Sie die For-Schleife durch eine List Comprehension, die die Kubikzahlen von 0 bis 4 berechnet und in einer Liste speichert.\n",
    " [Einen Hinweis finden Sie hier. ](https://py-tutorial-de.readthedocs.io/de/python-3.3/datastructures.html#schleifentechniken)"
   ]
  },
  {
   "cell_type": "code",
   "execution_count": 12,
   "id": "5ef7ab62",
   "metadata": {},
   "outputs": [],
   "source": [
    "\n",
    "# Lösung \n"
   ]
  },
  {
   "cell_type": "markdown",
   "id": "cdb75b41",
   "metadata": {},
   "source": [
    "Geben Sie alle Einträge des `name_to_age` Dictionarys, die älter sind als 26, aus. "
   ]
  },
  {
   "cell_type": "code",
   "execution_count": 13,
   "id": "bbb4eb95",
   "metadata": {},
   "outputs": [
    {
     "name": "stdout",
     "output_type": "stream",
     "text": [
      "Anna is older than 26, age: 30\n",
      "Joe is older than 26, age: 30\n"
     ]
    }
   ],
   "source": [
    "for name, age in name_to_age.items():\n",
    "    if age > 26:\n",
    "        print(f\"{name} is older than 26, age: {age}\")"
   ]
  },
  {
   "cell_type": "markdown",
   "metadata": {},
   "source": [
    "### 4) Funktionen\n",
    "- Funktionen kapseln wiederverwendbare Logik.\n",
    "\n",
    "z.B die Gleichung für die Berechnung der Beschleunigung ist gegeben durch $a = (v-u)/t$\n"
   ]
  },
  {
   "cell_type": "code",
   "execution_count": 14,
   "metadata": {},
   "outputs": [
    {
     "name": "stdout",
     "output_type": "stream",
     "text": [
      "acceleration is 5.0 m/s^2\n",
      "acceleration is -1.75 m/s^2\n",
      "acceleration is 0.25 m/s^2\n"
     ]
    }
   ],
   "source": [
    "\n",
    "def calculate_acceleration(final_velocity, initial_velocity, time): \n",
    "    \"\"\"Berechnet die Beschleunigung a = (final_velocity - initial_velocity) / time.\n",
    "    Parameter\n",
    "    ---------\n",
    "    final_velocity : float\n",
    "        Endgeschwindigkeit in m/s\n",
    "    initial_velocity : float\n",
    "        Anfangsgeschwindigkeit in m/s\n",
    "    time : float\n",
    "        Zeit in s\n",
    "    Rückgabe\n",
    "    --------\n",
    "    float : Beschleunigung in m/s^2\n",
    "    \"\"\"\n",
    "    a = (final_velocity - initial_velocity) / time\n",
    "    return a\n",
    "\n",
    "acceleration = calculate_acceleration(90.0, 30.0, 12.0)\n",
    "print(f\"acceleration is {acceleration} m/s^2\")\n",
    "acceleration = calculate_acceleration(9.0, 30.0, 12.0)\n",
    "print(f\"acceleration is {acceleration} m/s^2\")\n",
    "acceleration = calculate_acceleration(0.0, -3.0, 12.0)\n",
    "print(f\"acceleration is {acceleration} m/s^2\")\n"
   ]
  },
  {
   "cell_type": "markdown",
   "id": "9b97b5f1",
   "metadata": {},
   "source": [
    "Übung: Schreiben Sie eine Funktion, die die Endgeschwindigkeit berechnet. Die Gleichung ist gegeben durch $v = u + a*t$, wobei v die Endgeschwindigkeit, u die Anfangsgeschwindigkeit, a die Beschleunigung und t die Zeit ist."
   ]
  },
  {
   "cell_type": "code",
   "execution_count": 15,
   "id": "a22e7beb",
   "metadata": {},
   "outputs": [],
   "source": [
    "# Lösung\n"
   ]
  },
  {
   "cell_type": "markdown",
   "id": "e4a329b8",
   "metadata": {},
   "source": [
    "### 5) Klassen \n",
    "Klassen sind Vorlagen zur Erstellung von Objekten, die sowohl Daten (Attribute) als auch Funktionen (Methoden) enthalten können. Sie ermöglichen die Kapselung von Logik und Daten in einer einzigen Einheit, was die Organisation und Wiederverwendbarkeit des Codes verbessert. Klassen bilden die Grundlage für objektorientierte Programmierung in Python. Sie werden  mit dem keyword `class` definiert."
   ]
  },
  {
   "cell_type": "code",
   "execution_count": 16,
   "id": "a4d1bdfa",
   "metadata": {},
   "outputs": [],
   "source": [
    "### 5) Klassen\n",
    "\n",
    "class Student:\n",
    "    \"\"\"Eine Klasse zur Darstellung eines Studenten mit Name und Alter.\"\"\"\n",
    "    \n",
    "    def __init__(self, name, age):\n",
    "        \"\"\"Initialisiert einen neuen Studenten.\n",
    "        \n",
    "        Parameter\n",
    "        ---------\n",
    "        name : str\n",
    "            Der Name des Studenten.\n",
    "        age : int\n",
    "            Das Alter des Studenten.\n",
    "        \"\"\"\n",
    "        self.name = name\n",
    "        self.age = age\n",
    "    \n",
    "    def greet(self):\n",
    "        \"\"\"Gibt eine Begrüßung aus.\"\"\"\n",
    "        print(f\"Hello, my name is {self.name} and I am {self.age} years old.\")\n"
   ]
  },
  {
   "cell_type": "markdown",
   "id": "11e7d16b",
   "metadata": {},
   "source": [
    "Wir erweiteren nun die Klasse `Student`."
   ]
  },
  {
   "cell_type": "code",
   "execution_count": 17,
   "id": "8a03e595",
   "metadata": {},
   "outputs": [],
   "source": [
    "class Student:\n",
    "    \"\"\"Eine Klasse zur Darstellung eines Studenten mit Name und Alter und der Universität.\"\"\"\n",
    "    \n",
    "    def __init__(self, name, age, university):\n",
    "        \"\"\"Initialisiert einen neuen Studenten.\n",
    "        \n",
    "        Parameter\n",
    "        ---------\n",
    "        name : str\n",
    "            Der Name des Studenten.\n",
    "        age : int\n",
    "            Das Alter des Studenten.\n",
    "        university : str\n",
    "            Die Universität des Studenten.\n",
    "        \"\"\"\n",
    "        self.name = name\n",
    "        self.age = age\n",
    "        self.university = university\n",
    "    \n",
    "    def greet(self):\n",
    "        \"\"\"Gibt eine Begrüßung aus.\"\"\"\n",
    "        print(f\"Hello, my name is {self.name}, I am {self.age} years old and I study at {self.university}.\")\n",
    "\n",
    "class Professor:\n",
    "    \"\"\"Eine Klasse zur Darstellung eines Professors mit Name und Fachgebiet.\"\"\"\n",
    "    \n",
    "    def __init__(self, name, field):\n",
    "        \"\"\"Initialisiert einen neuen Professor.\n",
    "        \n",
    "        Parameter\n",
    "        ---------\n",
    "        name : str\n",
    "            Der Name des Professors.\n",
    "        field : str\n",
    "            Das Fachgebiet des Professors.\n",
    "        \"\"\"\n",
    "        self.name = name\n",
    "        self.field = field\n",
    "    \n",
    "    def introduce(self):\n",
    "        \"\"\"Gibt eine Vorstellung aus.\"\"\"\n",
    "        print(f\"Hello, my name is {self.name} and I specialize in {self.field}.\")"
   ]
  },
  {
   "cell_type": "markdown",
   "id": "001ffd61",
   "metadata": {},
   "source": [
    "Initialisieren Sie eine Liste mit vier Studenten, zwei von ihnen studieren an der UniBWM und 2 an der TUM. Initialisieren Sie auch 2 Professoren, einen von der UniBWM und einen von der TUM. Lassen Sie alle Studenten und Professoren sich vorstellen. Das Alter und die Namen können Sie frei auswählen."
   ]
  },
  {
   "cell_type": "code",
   "execution_count": 18,
   "id": "a0bdd5f5",
   "metadata": {},
   "outputs": [],
   "source": [
    "#Lösung\n",
    "\n"
   ]
  },
  {
   "cell_type": "markdown",
   "id": "47791306",
   "metadata": {},
   "source": [
    "Übung: \n",
    "\n",
    "- von der Liste der Studenten: Geben Sie den Namen des ältesten Studenten aus. \n",
    "- von der Liste der Studenten: Wählen die eine Subliste von Studenten, die an der UniBWM studieren. Verwenden Sie jeweils `for` loop und `list comprehension`."
   ]
  },
  {
   "cell_type": "code",
   "execution_count": 19,
   "id": "1d4d3a97",
   "metadata": {},
   "outputs": [],
   "source": [
    "#Lösung\n"
   ]
  },
  {
   "cell_type": "markdown",
   "id": "9f799901",
   "metadata": {},
   "source": [
    "Erweitern Sie die  `Student` Klasse um ein Attribut `subjects`, das eine Liste von Fächern darstellt, die der Student belegt hat. Fügen Sie auch eine Methode `add_subject` hinzu, die ein Fach zur Liste hinzufügt, und eine Methode `list_subjects`, die alle belegten Fächer ausgibt.\n"
   ]
  },
  {
   "cell_type": "code",
   "execution_count": 20,
   "id": "925ec5f5",
   "metadata": {},
   "outputs": [],
   "source": [
    "# Lösung\n"
   ]
  },
  {
   "cell_type": "markdown",
   "id": "ad438db4",
   "metadata": {},
   "source": [
    "Im Weiteren lernen Sie die zwei der wichtigsten Bibliotheken in Python kennnen: NumPy und Matplotlib. NumPy ist die grundlegende Bibliothek für numerische Berechnungen in Python. Matplotlib ist eine Bibliothek zur Erstellung von statischen und interaktiven Visualisierungen.\n",
    "- Numpy bietet verschiedene Funktionalitäten für die Arbeit mit Arrays, Matrizen und mathematischen Operationen.\n",
    "- Matplotlib ermöglicht die Erstellung von Diagrammen, Plots und anderen Visualisierungen.\n",
    "\n",
    "Sie können in Python Bibliotheken mit dem Befehl `import` einbeziehen. Dafür muss die Bibliothek vorher installiert sein. Dafür ist Packagemanagement-Tool verantwortlich. Ihre Notebooks laufen in einer virtuellen Umgebung, die 'uv' erstellt wurde. Sie können die Bibliotheken in dieser Umgebung mit dem Befehl `uv pip install <bibliotheksname>` installieren.\n",
    "Wenn Sie eine Bibliothek importieren, können Sie ihr einen Alias geben. Mit diesem Alias können Sie die Funktionen der Bibliothek einfacher aufrufen.\n"
   ]
  },
  {
   "cell_type": "code",
   "execution_count": 21,
   "id": "ba177491",
   "metadata": {},
   "outputs": [
    {
     "name": "stdout",
     "output_type": "stream",
     "text": [
      "Python: 3.13.3\n",
      "NumPy: 2.2.6\n",
      "Matplotlib: 3.10.3\n"
     ]
    }
   ],
   "source": [
    "# System-/Paket-Check (Versionen anzeigen)\n",
    "import sys, numpy as np\n",
    "import matplotlib\n",
    "import matplotlib.pyplot as plt\n",
    "\n",
    "print(\"Python:\", sys.version.split()[0])\n",
    "print(\"NumPy:\", np.__version__)\n",
    "print(\"Matplotlib:\", matplotlib.__version__)\n"
   ]
  },
  {
   "cell_type": "markdown",
   "metadata": {},
   "source": [
    "## 2) NumPy-Grundlagen (Arrays, Vektorisierung, LA)\n",
    "\n",
    "**NumPy** ist der De-facto-Standard für numerisches Rechnen in Python:\n",
    "- Effiziente **ndarrays** (Vektoren/Matrizen)\n",
    "- **Vektorisierung** statt expliziter Schleifen\n",
    "- Lineare Algebra: `dot`, `norm`, `solve`, `eig` u. a.\n"
   ]
  },
  {
   "cell_type": "code",
   "execution_count": 22,
   "metadata": {},
   "outputs": [
    {
     "name": "stdout",
     "output_type": "stream",
     "text": [
      "vec: [1. 2. 3.] shape: (3,) dtype: float64\n",
      "mat:\n",
      " [[1. 2.]\n",
      " [3. 4.]] shape: (2, 2)\n",
      "a: [0. 1. 2. 3. 4. 5. 6. 7. 8. 9.]\n",
      "b = a^2 + 2a + 1: [  1.   4.   9.  16.  25.  36.  49.  64.  81. 100.]\n",
      "a[0]: 0.0\n",
      "a[-1]: 9.0\n",
      "a[2:5]: [2. 3. 4.]\n",
      "a[:3]: [0. 1. 2.]\n",
      "a[5:]: [5. 6. 7. 8. 9.]\n"
     ]
    }
   ],
   "source": [
    "import numpy as np\n",
    "\n",
    "# Array-Erstellung\n",
    "vec = np.array([1.0, 2.0, 3.0])\n",
    "mat = np.array([[1.0, 2.0], [3.0, 4.0]])\n",
    "\n",
    "print(\"vec:\", vec, \"shape:\", vec.shape, \"dtype:\", vec.dtype)\n",
    "print(\"mat:\\n\", mat, \"shape:\", mat.shape)\n",
    "\n",
    "# Vektorisierung\n",
    "a = np.arange(0, 10, 1.0)  # 0..9\n",
    "b = a**2 + 2*a + 1\n",
    "print(\"a:\", a)\n",
    "print(\"b = a^2 + 2a + 1:\", b)\n",
    "\n",
    "# Indexing und Slicing\n",
    "print(\"a[0]:\", a[0])    # Erstes Element\n",
    "print(\"a[-1]:\", a[-1])  # Letztes Element\n",
    "print(\"a[2:5]:\", a[2:5])  # Elemente von Index 2 bis 4\n",
    "print(\"a[:3]:\", a[:3])  # Erste drei Elemente\n",
    "print(\"a[5:]:\", a[5:])\n"
   ]
  },
  {
   "cell_type": "markdown",
   "metadata": {},
   "source": [
    "### Lineare Algebra (LA)\n",
    "Beispiele: Skalarprodukte, Normen."
   ]
  },
  {
   "cell_type": "code",
   "execution_count": 23,
   "metadata": {},
   "outputs": [],
   "source": [
    "from numpy.linalg import norm, solve, eig\n",
    "\n",
    "u = np.array([1.0, 2.0, 3.0])\n",
    "v = np.array([2.0, 0.0, 1.0])\n",
    "\n",
    "dot_uv = np.dot(u, v)\n",
    "norm_u = norm(u)\n",
    "\n"
   ]
  },
  {
   "cell_type": "markdown",
   "id": "a386b7a1",
   "metadata": {},
   "source": [
    "Übung: Verwenden Sie numpy, um die Gleichung $Ax = b$ zu lösen. Erinneren Sie sich an die Vorlesung über Lineare Algebra. \n",
    "Die Lösung ist gegeben durch die Gleichung $x = A^ {-1} * b$, wobei $A^{-1}$ die Inverse von A ist.\n",
    "Verwenden Sie `numpy.linalg.inv`, um die Inverse zu berechnen und numpy.dot um die Matrix-Vektor-Multiplikation durchzuführen. \n",
    "Gleichen Sie das Ergebnis mit `numpy.linalg.solve` ab."
   ]
  },
  {
   "cell_type": "code",
   "execution_count": 24,
   "id": "35265105",
   "metadata": {},
   "outputs": [],
   "source": [
    "# Lösung\n"
   ]
  },
  {
   "cell_type": "markdown",
   "metadata": {},
   "source": [
    "## 3) Matplotlib: einfache Plots\n",
    "\n",
    "Wir verwenden `matplotlib.pyplot` als `plt`. Jede Grafik wird auf einem separaten Plot dargestellt.\n"
   ]
  },
  {
   "cell_type": "markdown",
   "metadata": {},
   "source": [
    "### Beispiel 1: Sin\n",
    "Parameter:\n",
    "- Winkel `theta` (Grad)\n",
    "\n",
    "Wir plotten den Wert `sin(theta)` über theta.\n"
   ]
  },
  {
   "cell_type": "code",
   "execution_count": 25,
   "metadata": {},
   "outputs": [
    {
     "data": {
      "image/png": "[encoded data removed]",
      "text/plain": [
       "<Figure size 640x480 with 1 Axes>"
      ]
     },
     "metadata": {},
     "output_type": "display_data"
    }
   ],
   "source": [
    "import numpy as np\n",
    "import matplotlib.pyplot as plt\n",
    "\n",
    "angles = np.linspace(-360,360, 720)\n",
    "alpha = np.deg2rad(angles)\n",
    "\n",
    "x = angles\n",
    "y = np.sin(alpha)\n",
    "\n",
    "# Plot: Höhe über Zeit\n",
    "plt.figure()\n",
    "plt.plot(x, y)\n",
    "plt.xlabel(\"angles [degrees]\")\n",
    "plt.ylabel(\"value\")\n",
    "plt.title(\"sin(x)\")\n",
    "plt.grid(True)\n",
    "plt.show()\n"
   ]
  },
  {
   "cell_type": "markdown",
   "id": "23035d18",
   "metadata": {},
   "source": [
    "Sie bewerten die Ergebnisse einer Umfrage unter vier Teilnehmern, die jeweils eine Punktzahl von 0 bis 100 für ein Produkt vergeben haben. Erstellen Sie ein Balkendiagramm, das die Punktzahlen der Teilnehmer anzeigt. Verwenden Sie unterschiedliche Farben für die Balken, um die Bewertungen visuell zu unterscheiden. Fügen Sie Achsenbeschriftungen und einen Titel hinzu, um das Diagramm verständlicher zu machen.\n",
    "\n",
    "Die Bewertungen der Teilnehmer sind in diesem Dictionary gespeichert: `{'Participant 1': 40, 'Participant 2': 100, 'Participant 3': 30, 'Participant 4': 55}`.\n",
    "Extrahieren Sie die Bezeichnungen der Teilnehmer und ihre jeweiligen Punktzahlen aus dem Dictionary, um die Daten für das Balkendiagramm vorzubereiten.\n",
    "Suchen Sie hierfür die keywords `dict.keys()` und `dict.values()` im Internet. Wie konvertiert man den Rückgabewert in Liste?  \n",
    "Hier können Sie die Beispiel für ein  [Balkandiagramm ansehen](https://matplotlib.org/stable/gallery/lines_bars_and_markers/bar_colors.html#sphx-glr-gallery-lines-bars-and-markers-bar-colors-py)."
   ]
  },
  {
   "cell_type": "code",
   "execution_count": 26,
   "id": "0f28661e",
   "metadata": {},
   "outputs": [
    {
     "data": {
      "image/png": "[encoded data removed]",
      "text/plain": [
       "<Figure size 640x480 with 1 Axes>"
      ]
     },
     "metadata": {},
     "output_type": "display_data"
    }
   ],
   "source": [
    "experiment_results =  {'Participant 1': 40, 'Participant 2': 100, 'Participant 3': 30, 'Participant 4': 55}\n",
    "\n",
    "\n",
    "fig, ax = plt.subplots()\n",
    "\n",
    "participants = ...\n",
    "values = ...\n",
    "\n",
    "bar_colors = ['tab:red', 'tab:blue', 'tab:green', 'tab:orange']\n",
    "\n",
    "\n",
    "\n",
    "ax.set_ylabel('Score')\n",
    "ax.set_title('Survey Result')\n",
    "\n",
    "\n",
    "plt.show()"
   ]
  },
  {
   "cell_type": "code",
   "execution_count": 27,
   "id": "6e4b449b",
   "metadata": {},
   "outputs": [],
   "source": [
    "# Lösung\n",
    "\n"
   ]
  },
  {
   "cell_type": "markdown",
   "metadata": {},
   "source": [
    "### Übung 2: NumPy & Matplotlib\n",
    "- Erzeugen Sie ein `theta`-Array von 0 bis 2*pi (400 Punkte). (Wie ist Pi in numpy definiert?) \n",
    "- Plotten Sie **auf einem  Plot ** `sin(theta)`  und  `cos(theta)` mit Legenden.\n"
   ]
  },
  {
   "cell_type": "code",
   "execution_count": 29,
   "metadata": {},
   "outputs": [
    {
     "ename": "TypeError",
     "evalue": "float() argument must be a string or a real number, not 'ellipsis'",
     "output_type": "error",
     "traceback": [
      "\u001b[31m---------------------------------------------------------------------------\u001b[39m",
      "\u001b[31mTypeError\u001b[39m                                 Traceback (most recent call last)",
      "\u001b[36mCell\u001b[39m\u001b[36m \u001b[39m\u001b[32mIn[29]\u001b[39m\u001b[32m, line 12\u001b[39m\n\u001b[32m     10\u001b[39m \u001b[38;5;66;03m# Plot 1: sin\u001b[39;00m\n\u001b[32m     11\u001b[39m plt.figure()\n\u001b[32m---> \u001b[39m\u001b[32m12\u001b[39m \u001b[43mplt\u001b[49m\u001b[43m.\u001b[49m\u001b[43mplot\u001b[49m\u001b[43m(\u001b[49m\u001b[43mtheta\u001b[49m\u001b[43m,\u001b[49m\u001b[43m \u001b[49m\u001b[43my_sin\u001b[49m\u001b[43m)\u001b[49m\n\u001b[32m     13\u001b[39m plt.xlabel(\u001b[33m\"\u001b[39m\u001b[33mtheta [rad]\u001b[39m\u001b[33m\"\u001b[39m)\n\u001b[32m     14\u001b[39m plt.ylabel(\u001b[33m\"\u001b[39m\u001b[33msin(theta) [-]\u001b[39m\u001b[33m\"\u001b[39m)\n",
      "\u001b[36mFile \u001b[39m\u001b[32m~\\AppData\\Roaming\\Python\\Python313\\site-packages\\matplotlib\\pyplot.py:3838\u001b[39m, in \u001b[36mplot\u001b[39m\u001b[34m(scalex, scaley, data, *args, **kwargs)\u001b[39m\n\u001b[32m   3830\u001b[39m \u001b[38;5;129m@_copy_docstring_and_deprecators\u001b[39m(Axes.plot)\n\u001b[32m   3831\u001b[39m \u001b[38;5;28;01mdef\u001b[39;00m\u001b[38;5;250m \u001b[39m\u001b[34mplot\u001b[39m(\n\u001b[32m   3832\u001b[39m     *args: \u001b[38;5;28mfloat\u001b[39m | ArrayLike | \u001b[38;5;28mstr\u001b[39m,\n\u001b[32m   (...)\u001b[39m\u001b[32m   3836\u001b[39m     **kwargs,\n\u001b[32m   3837\u001b[39m ) -> \u001b[38;5;28mlist\u001b[39m[Line2D]:\n\u001b[32m-> \u001b[39m\u001b[32m3838\u001b[39m     \u001b[38;5;28;01mreturn\u001b[39;00m \u001b[43mgca\u001b[49m\u001b[43m(\u001b[49m\u001b[43m)\u001b[49m\u001b[43m.\u001b[49m\u001b[43mplot\u001b[49m\u001b[43m(\u001b[49m\n\u001b[32m   3839\u001b[39m \u001b[43m        \u001b[49m\u001b[43m*\u001b[49m\u001b[43margs\u001b[49m\u001b[43m,\u001b[49m\n\u001b[32m   3840\u001b[39m \u001b[43m        \u001b[49m\u001b[43mscalex\u001b[49m\u001b[43m=\u001b[49m\u001b[43mscalex\u001b[49m\u001b[43m,\u001b[49m\n\u001b[32m   3841\u001b[39m \u001b[43m        \u001b[49m\u001b[43mscaley\u001b[49m\u001b[43m=\u001b[49m\u001b[43mscaley\u001b[49m\u001b[43m,\u001b[49m\n\u001b[32m   3842\u001b[39m \u001b[43m        \u001b[49m\u001b[43m*\u001b[49m\u001b[43m*\u001b[49m\u001b[43m(\u001b[49m\u001b[43m{\u001b[49m\u001b[33;43m\"\u001b[39;49m\u001b[33;43mdata\u001b[39;49m\u001b[33;43m\"\u001b[39;49m\u001b[43m:\u001b[49m\u001b[43m \u001b[49m\u001b[43mdata\u001b[49m\u001b[43m}\u001b[49m\u001b[43m \u001b[49m\u001b[38;5;28;43;01mif\u001b[39;49;00m\u001b[43m \u001b[49m\u001b[43mdata\u001b[49m\u001b[43m \u001b[49m\u001b[38;5;129;43;01mis\u001b[39;49;00m\u001b[43m \u001b[49m\u001b[38;5;129;43;01mnot\u001b[39;49;00m\u001b[43m \u001b[49m\u001b[38;5;28;43;01mNone\u001b[39;49;00m\u001b[43m \u001b[49m\u001b[38;5;28;43;01melse\u001b[39;49;00m\u001b[43m \u001b[49m\u001b[43m{\u001b[49m\u001b[43m}\u001b[49m\u001b[43m)\u001b[49m\u001b[43m,\u001b[49m\n\u001b[32m   3843\u001b[39m \u001b[43m        \u001b[49m\u001b[43m*\u001b[49m\u001b[43m*\u001b[49m\u001b[43mkwargs\u001b[49m\u001b[43m,\u001b[49m\n\u001b[32m   3844\u001b[39m \u001b[43m    \u001b[49m\u001b[43m)\u001b[49m\n",
      "\u001b[36mFile \u001b[39m\u001b[32m~\\AppData\\Roaming\\Python\\Python313\\site-packages\\matplotlib\\axes\\_axes.py:1779\u001b[39m, in \u001b[36mAxes.plot\u001b[39m\u001b[34m(self, scalex, scaley, data, *args, **kwargs)\u001b[39m\n\u001b[32m   1777\u001b[39m lines = [*\u001b[38;5;28mself\u001b[39m._get_lines(\u001b[38;5;28mself\u001b[39m, *args, data=data, **kwargs)]\n\u001b[32m   1778\u001b[39m \u001b[38;5;28;01mfor\u001b[39;00m line \u001b[38;5;129;01min\u001b[39;00m lines:\n\u001b[32m-> \u001b[39m\u001b[32m1779\u001b[39m     \u001b[38;5;28;43mself\u001b[39;49m\u001b[43m.\u001b[49m\u001b[43madd_line\u001b[49m\u001b[43m(\u001b[49m\u001b[43mline\u001b[49m\u001b[43m)\u001b[49m\n\u001b[32m   1780\u001b[39m \u001b[38;5;28;01mif\u001b[39;00m scalex:\n\u001b[32m   1781\u001b[39m     \u001b[38;5;28mself\u001b[39m._request_autoscale_view(\u001b[33m\"\u001b[39m\u001b[33mx\u001b[39m\u001b[33m\"\u001b[39m)\n",
      "\u001b[36mFile \u001b[39m\u001b[32m~\\AppData\\Roaming\\Python\\Python313\\site-packages\\matplotlib\\axes\\_base.py:2407\u001b[39m, in \u001b[36m_AxesBase.add_line\u001b[39m\u001b[34m(self, line)\u001b[39m\n\u001b[32m   2404\u001b[39m \u001b[38;5;28;01mif\u001b[39;00m line.get_clip_path() \u001b[38;5;129;01mis\u001b[39;00m \u001b[38;5;28;01mNone\u001b[39;00m:\n\u001b[32m   2405\u001b[39m     line.set_clip_path(\u001b[38;5;28mself\u001b[39m.patch)\n\u001b[32m-> \u001b[39m\u001b[32m2407\u001b[39m \u001b[38;5;28;43mself\u001b[39;49m\u001b[43m.\u001b[49m\u001b[43m_update_line_limits\u001b[49m\u001b[43m(\u001b[49m\u001b[43mline\u001b[49m\u001b[43m)\u001b[49m\n\u001b[32m   2408\u001b[39m \u001b[38;5;28;01mif\u001b[39;00m \u001b[38;5;129;01mnot\u001b[39;00m line.get_label():\n\u001b[32m   2409\u001b[39m     line.set_label(\u001b[33mf\u001b[39m\u001b[33m'\u001b[39m\u001b[33m_child\u001b[39m\u001b[38;5;132;01m{\u001b[39;00m\u001b[38;5;28mlen\u001b[39m(\u001b[38;5;28mself\u001b[39m._children)\u001b[38;5;132;01m}\u001b[39;00m\u001b[33m'\u001b[39m)\n",
      "\u001b[36mFile \u001b[39m\u001b[32m~\\AppData\\Roaming\\Python\\Python313\\site-packages\\matplotlib\\axes\\_base.py:2430\u001b[39m, in \u001b[36m_AxesBase._update_line_limits\u001b[39m\u001b[34m(self, line)\u001b[39m\n\u001b[32m   2426\u001b[39m \u001b[38;5;28;01mdef\u001b[39;00m\u001b[38;5;250m \u001b[39m\u001b[34m_update_line_limits\u001b[39m(\u001b[38;5;28mself\u001b[39m, line):\n\u001b[32m   2427\u001b[39m \u001b[38;5;250m    \u001b[39m\u001b[33;03m\"\"\"\u001b[39;00m\n\u001b[32m   2428\u001b[39m \u001b[33;03m    Figures out the data limit of the given line, updating `.Axes.dataLim`.\u001b[39;00m\n\u001b[32m   2429\u001b[39m \u001b[33;03m    \"\"\"\u001b[39;00m\n\u001b[32m-> \u001b[39m\u001b[32m2430\u001b[39m     path = \u001b[43mline\u001b[49m\u001b[43m.\u001b[49m\u001b[43mget_path\u001b[49m\u001b[43m(\u001b[49m\u001b[43m)\u001b[49m\n\u001b[32m   2431\u001b[39m     \u001b[38;5;28;01mif\u001b[39;00m path.vertices.size == \u001b[32m0\u001b[39m:\n\u001b[32m   2432\u001b[39m         \u001b[38;5;28;01mreturn\u001b[39;00m\n",
      "\u001b[36mFile \u001b[39m\u001b[32m~\\AppData\\Roaming\\Python\\Python313\\site-packages\\matplotlib\\lines.py:1052\u001b[39m, in \u001b[36mLine2D.get_path\u001b[39m\u001b[34m(self)\u001b[39m\n\u001b[32m   1050\u001b[39m \u001b[38;5;250m\u001b[39m\u001b[33;03m\"\"\"Return the `~matplotlib.path.Path` associated with this line.\"\"\"\u001b[39;00m\n\u001b[32m   1051\u001b[39m \u001b[38;5;28;01mif\u001b[39;00m \u001b[38;5;28mself\u001b[39m._invalidy \u001b[38;5;129;01mor\u001b[39;00m \u001b[38;5;28mself\u001b[39m._invalidx:\n\u001b[32m-> \u001b[39m\u001b[32m1052\u001b[39m     \u001b[38;5;28;43mself\u001b[39;49m\u001b[43m.\u001b[49m\u001b[43mrecache\u001b[49m\u001b[43m(\u001b[49m\u001b[43m)\u001b[49m\n\u001b[32m   1053\u001b[39m \u001b[38;5;28;01mreturn\u001b[39;00m \u001b[38;5;28mself\u001b[39m._path\n",
      "\u001b[36mFile \u001b[39m\u001b[32m~\\AppData\\Roaming\\Python\\Python313\\site-packages\\matplotlib\\lines.py:689\u001b[39m, in \u001b[36mLine2D.recache\u001b[39m\u001b[34m(self, always)\u001b[39m\n\u001b[32m    687\u001b[39m \u001b[38;5;28;01mif\u001b[39;00m always \u001b[38;5;129;01mor\u001b[39;00m \u001b[38;5;28mself\u001b[39m._invalidx:\n\u001b[32m    688\u001b[39m     xconv = \u001b[38;5;28mself\u001b[39m.convert_xunits(\u001b[38;5;28mself\u001b[39m._xorig)\n\u001b[32m--> \u001b[39m\u001b[32m689\u001b[39m     x = \u001b[43m_to_unmasked_float_array\u001b[49m\u001b[43m(\u001b[49m\u001b[43mxconv\u001b[49m\u001b[43m)\u001b[49m.ravel()\n\u001b[32m    690\u001b[39m \u001b[38;5;28;01melse\u001b[39;00m:\n\u001b[32m    691\u001b[39m     x = \u001b[38;5;28mself\u001b[39m._x\n",
      "\u001b[36mFile \u001b[39m\u001b[32m~\\AppData\\Roaming\\Python\\Python313\\site-packages\\matplotlib\\cbook.py:1355\u001b[39m, in \u001b[36m_to_unmasked_float_array\u001b[39m\u001b[34m(x)\u001b[39m\n\u001b[32m   1353\u001b[39m     \u001b[38;5;28;01mreturn\u001b[39;00m np.ma.asarray(x, \u001b[38;5;28mfloat\u001b[39m).filled(np.nan)\n\u001b[32m   1354\u001b[39m \u001b[38;5;28;01melse\u001b[39;00m:\n\u001b[32m-> \u001b[39m\u001b[32m1355\u001b[39m     \u001b[38;5;28;01mreturn\u001b[39;00m \u001b[43mnp\u001b[49m\u001b[43m.\u001b[49m\u001b[43masarray\u001b[49m\u001b[43m(\u001b[49m\u001b[43mx\u001b[49m\u001b[43m,\u001b[49m\u001b[43m \u001b[49m\u001b[38;5;28;43mfloat\u001b[39;49m\u001b[43m)\u001b[49m\n",
      "\u001b[31mTypeError\u001b[39m: float() argument must be a string or a real number, not 'ellipsis'"
     ]
    },
    {
     "data": {
      "image/png": "[encoded data removed]",
      "text/plain": [
       "<Figure size 640x480 with 1 Axes>"
      ]
     },
     "metadata": {},
     "output_type": "display_data"
    }
   ],
   "source": [
    "import numpy as np\n",
    "import matplotlib.pyplot as plt\n",
    "\n",
    "# TODO\n",
    "theta = ...\n",
    "\n",
    "y_sin = ...\n",
    "y_cos = ...\n",
    "\n",
    "# Plot 1: sin\n",
    "plt.figure()\n",
    "plt.plot(theta, y_sin)\n",
    "plt.xlabel(\"theta [rad]\")\n",
    "plt.ylabel(\"sin(theta) [-]\")\n",
    "plt.title(\"Sine\")\n",
    "plt.grid(True)\n",
    "plt.show()\n",
    "\n",
    "\n"
   ]
  },
  {
   "cell_type": "code",
   "execution_count": null,
   "metadata": {},
   "outputs": [],
   "source": [
    "# Lösung\n",
    "\n"
   ]
  },
  {
   "cell_type": "markdown",
   "metadata": {},
   "source": [
    "### Übung \n",
    "Gegeben sei das System\n",
    "\\[\n",
    "\\begin{cases}\n",
    "4x + 2y = 20 \\\\\n",
    "-1x + 3y = 5\n",
    "\\end{cases}\n",
    "\\]\n",
    "- Formulieren Sie `A` und `b` in NumPy und lösen Sie für `x`.\n"
   ]
  },
  {
   "cell_type": "code",
   "execution_count": null,
   "metadata": {},
   "outputs": [],
   "source": [
    "import numpy as np\n",
    "from numpy.linalg import  # the right function or use what we derived earlier\n",
    "\n",
    "# TODO\n",
    "A = ...\n",
    "b = ...\n",
    "x = #\n",
    "print(\"solution:\", x)\n"
   ]
  },
  {
   "cell_type": "code",
   "execution_count": null,
   "metadata": {},
   "outputs": [],
   "source": [
    "# Lösung \n",
    "\n"
   ]
  }
 ],
 "metadata": {
  "kernelspec": {
   "display_name": "Python 3",
   "language": "python",
   "name": "python3"
  },
  "language_info": {
   "codemirror_mode": {
    "name": "ipython",
    "version": 3
   },
   "file_extension": ".py",
   "mimetype": "text/x-python",
   "name": "python",
   "nbconvert_exporter": "python",
   "pygments_lexer": "ipython3",
   "version": "3.13.3"
  }
 },
 "nbformat": 4,
 "nbformat_minor": 5
}
