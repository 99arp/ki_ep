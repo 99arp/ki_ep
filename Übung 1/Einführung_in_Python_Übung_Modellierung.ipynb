{
 "cells": [
  {
   "cell_type": "markdown",
   "id": "79ff9db7",
   "metadata": {},
   "source": [
    "# Einführung in Python -- Modellierung"
   ]
  },
  {
   "cell_type": "markdown",
   "id": "5d783721",
   "metadata": {},
   "source": []
  },
  {
   "cell_type": "code",
   "execution_count": 8,
   "id": "92973d89",
   "metadata": {},
   "outputs": [],
   "source": [
    "from dataclasses import dataclass\n",
    "from typing import Dict, List, Optional, Set, Tuple\n",
    "\n",
    "\n",
    "\n"
   ]
  },
  {
   "cell_type": "markdown",
   "id": "5fb17ed1",
   "metadata": {},
   "source": [
    "Welche Eigenschaften sollte eine Klasse Location haben?"
   ]
  },
  {
   "cell_type": "code",
   "execution_count": 9,
   "id": "113d7694",
   "metadata": {},
   "outputs": [],
   "source": [
    "\n",
    "@dataclass \n",
    "class Location: \n",
    "    name: str \n",
    "    x: float \n",
    "    y: float"
   ]
  },
  {
   "cell_type": "markdown",
   "id": "337ee704",
   "metadata": {},
   "source": [
    "### Übung 1) Finden Sie heraus, was `@dataclass` decorator macht. Finden Sie heraus, was `@dataclass` decorator macht. Nehmen Sie Änderung an der decorator vor, um die Klasse Location unveränderlich (immutable) zu machen."
   ]
  },
  {
   "cell_type": "code",
   "execution_count": 4,
   "id": "d15ec8db",
   "metadata": {},
   "outputs": [],
   "source": [
    "#Lösung \n"
   ]
  },
  {
   "cell_type": "markdown",
   "id": "0d6fc6de",
   "metadata": {},
   "source": [
    "### 2) Übung Definieren Sie eine Klasse `Road`, die zwei `Location` Objekte (Start und Ende) verbindet. Definieren Sie eine Methode `length`, die die Länge der Straße berechnet (die euklidische Distanz zwischen den zwei Orten). Definieren Sie eine weitere Variable `one_way`, die angibt, ob die Straße nur in eine Richtung befahrbar ist (Standardwert ist `False`) und die Variable `speed_limit`, die die Geschwindigkeitsbegrenzung der Straße angibt (Standardwert ist `50`)."
   ]
  },
  {
   "cell_type": "code",
   "execution_count": 5,
   "id": "3472b6f5",
   "metadata": {},
   "outputs": [],
   "source": [
    "#Lösung\n",
    "\n",
    "    "
   ]
  },
  {
   "cell_type": "markdown",
   "id": "bca553fd",
   "metadata": {},
   "source": [
    "### 3) Definieren Sie eine Klasse `CityMap`, die mit einer Liste von `Location` Objekten und einer Liste von `Road` Objekten initialisert wird. Definieren Sie eine Methode `add_location`, die einen neuen Ort zur Karte hinzufügt, und eine Methode `add_road`, die eine neue Straße zur Karte hinzufügt. Definieren Sie eine Methode `get_location`, die einen Ort anhand seines Namens zurückgibt, und eine Methode `get_roads_from`, die alle Straßen zurückgibt, die von einem bestimmten Ort ausgehen.\n"
   ]
  },
  {
   "cell_type": "code",
   "execution_count": 6,
   "id": "97a536ea",
   "metadata": {},
   "outputs": [],
   "source": [
    "\n",
    "# Lösung \n",
    "\n"
   ]
  },
  {
   "cell_type": "code",
   "execution_count": 7,
   "id": "2438a9b8",
   "metadata": {},
   "outputs": [
    {
     "ename": "NameError",
     "evalue": "name 'Road' is not defined",
     "output_type": "error",
     "traceback": [
      "\u001b[31m---------------------------------------------------------------------------\u001b[39m",
      "\u001b[31mNameError\u001b[39m                                 Traceback (most recent call last)",
      "\u001b[36mCell\u001b[39m\u001b[36m \u001b[39m\u001b[32mIn[7]\u001b[39m\u001b[32m, line 8\u001b[39m\n\u001b[32m      1\u001b[39m locations = [\n\u001b[32m      2\u001b[39m     Location(\u001b[33m\"\u001b[39m\u001b[33mKarlsplatz\u001b[39m\u001b[33m\"\u001b[39m, \u001b[32m0\u001b[39m, \u001b[32m80\u001b[39m),\n\u001b[32m      3\u001b[39m     Location(\u001b[33m\"\u001b[39m\u001b[33mIsartor\u001b[39m\u001b[33m\"\u001b[39m, \u001b[32m0\u001b[39m, \u001b[32m100\u001b[39m ), \n\u001b[32m      4\u001b[39m     Location(\u001b[33m\"\u001b[39m\u001b[33mMarienplatz\u001b[39m\u001b[33m\"\u001b[39m, \u001b[32m20\u001b[39m, \u001b[32m80\u001b[39m),\n\u001b[32m      5\u001b[39m     Location(\u001b[33m\"\u001b[39m\u001b[33mHauptbahnhof\u001b[39m\u001b[33m\"\u001b[39m, -\u001b[32m20\u001b[39m, \u001b[32m60\u001b[39m),]\n\u001b[32m      7\u001b[39m roads = [\n\u001b[32m----> \u001b[39m\u001b[32m8\u001b[39m     \u001b[43mRoad\u001b[49m(locations[\u001b[32m0\u001b[39m], locations[\u001b[32m1\u001b[39m], \u001b[33m\"\u001b[39m\u001b[33mLudwigstraße\u001b[39m\u001b[33m\"\u001b[39m,  speed_limit=\u001b[32m30\u001b[39m),\n\u001b[32m      9\u001b[39m     Road(locations[\u001b[32m0\u001b[39m], locations[\u001b[32m2\u001b[39m], \u001b[33m\"\u001b[39m\u001b[33mSonnenstraße\u001b[39m\u001b[33m\"\u001b[39m, speed_limit=\u001b[32m50\u001b[39m),\n\u001b[32m     10\u001b[39m     Road(locations[\u001b[32m0\u001b[39m], locations[\u001b[32m3\u001b[39m], \u001b[33m\"\u001b[39m\u001b[33mArnulfstraße\u001b[39m\u001b[33m\"\u001b[39m, speed_limit=\u001b[32m30\u001b[39m),\n\u001b[32m     11\u001b[39m     Road(locations[\u001b[32m3\u001b[39m], locations[\u001b[32m2\u001b[39m], \u001b[33m\"\u001b[39m\u001b[33mSchützenstraße\u001b[39m\u001b[33m\"\u001b[39m, speed_limit=\u001b[32m40\u001b[39m),\n\u001b[32m     12\u001b[39m     Road(locations[\u001b[32m2\u001b[39m], locations[\u001b[32m1\u001b[39m], \u001b[33m\"\u001b[39m\u001b[33mWeinstraße\u001b[39m\u001b[33m\"\u001b[39m,  speed_limit=\u001b[32m20\u001b[39m)]\n\u001b[32m     14\u001b[39m city_map = CityMap(locations=locations, roads=roads)\n\u001b[32m     15\u001b[39m city_map.add_location(Location(\u001b[33m\"\u001b[39m\u001b[33mRotkreuzplatz\u001b[39m\u001b[33m\"\u001b[39m, \u001b[32m10\u001b[39m, \u001b[32m50\u001b[39m))\n",
      "\u001b[31mNameError\u001b[39m: name 'Road' is not defined"
     ]
    }
   ],
   "source": [
    "locations = [\n",
    "    Location(\"Karlsplatz\", 0, 80),\n",
    "    Location(\"Isartor\", 0, 100 ), \n",
    "    Location(\"Marienplatz\", 20, 80),\n",
    "    Location(\"Hauptbahnhof\", -20, 60),]\n",
    "\n",
    "roads = [\n",
    "    Road(locations[0], locations[1], \"Ludwigstraße\",  speed_limit=30),\n",
    "    Road(locations[0], locations[2], \"Sonnenstraße\", speed_limit=50),\n",
    "    Road(locations[0], locations[3], \"Arnulfstraße\", speed_limit=30),\n",
    "    Road(locations[3], locations[2], \"Schützenstraße\", speed_limit=40),\n",
    "    Road(locations[2], locations[1], \"Weinstraße\",  speed_limit=20)]\n",
    "\n",
    "city_map = CityMap(locations=locations, roads=roads)\n",
    "city_map.add_location(Location(\"Rotkreuzplatz\", 10, 50))\n",
    "city_map.add_road(Road(Location(\"Rotkreuzplatz\", 10, 50), Location(\"Hauptbahnhof\", -20, 60), \"Nymphenburgerstraße\", speed_limit=30))\n",
    "city_map.add_road(Road(Location(\"Rotkreuzplatz\", 10, 50), Location(\"Isartor\", 0, 100 ), \"Landsbergerstraße\", speed_limit=50))\n"
   ]
  },
  {
   "cell_type": "markdown",
   "id": "d03c4e43",
   "metadata": {},
   "source": [
    "Visualiseren Sie die Karte als eine Graph.  Nehmen Sie an, dass die x und y Koordinaten in Metern sind. Nehmen Sie an, dass die Location Knoten (Nodes) sind und die Roads Kanten (Edges) sind. Die Kanten sollten mit dem Namen der Straße und der Geschwindigkeitsbegrenzung beschriftet sein. Verwenden Sie NetworkX und Matplotlib, um die Karte zu visualisieren."
   ]
  },
  {
   "cell_type": "code",
   "execution_count": null,
   "id": "9be3042d",
   "metadata": {},
   "outputs": [
    {
     "ename": "NameError",
     "evalue": "name 'city_map' is not defined",
     "output_type": "error",
     "traceback": [
      "\u001b[31m---------------------------------------------------------------------------\u001b[39m",
      "\u001b[31mNameError\u001b[39m                                 Traceback (most recent call last)",
      "\u001b[36mCell\u001b[39m\u001b[36m \u001b[39m\u001b[32mIn[1]\u001b[39m\u001b[32m, line 5\u001b[39m\n\u001b[32m      3\u001b[39m \u001b[38;5;28;01mimport\u001b[39;00m\u001b[38;5;250m \u001b[39m\u001b[34;01mnetworkx\u001b[39;00m\u001b[38;5;250m \u001b[39m\u001b[38;5;28;01mas\u001b[39;00m\u001b[38;5;250m \u001b[39m\u001b[34;01mnx\u001b[39;00m\n\u001b[32m      4\u001b[39m G = nx.DiGraph()\n\u001b[32m----> \u001b[39m\u001b[32m5\u001b[39m \u001b[38;5;28;01mfor\u001b[39;00m loc \u001b[38;5;129;01min\u001b[39;00m \u001b[43mcity_map\u001b[49m.locations:\n\u001b[32m      6\u001b[39m     G.add_node(loc.name, pos=(loc.x, loc.y))\n\u001b[32m      7\u001b[39m \u001b[38;5;28;01mfor\u001b[39;00m road \u001b[38;5;129;01min\u001b[39;00m city_map.roads:\n",
      "\u001b[31mNameError\u001b[39m: name 'city_map' is not defined"
     ]
    }
   ],
   "source": [
    "#Lösung\n",
    "import matplotlib.pyplot as plt\n",
    "import networkx as nx\n",
    "G = nx.DiGraph()\n",
    "for loc in city_map.locations:\n",
    "    G.add_node(loc.name, pos=(loc.x, loc.y))\n",
    "for road in city_map.roads:\n",
    "    G.add_edge(road.start.name, road.end.name, label=f\"{road.name} ({road.speed_limit} km/h)\")\n",
    "print(G.nodes(data=True))\n",
    "print(G.edges(data=True))\n",
    "# Visualiserung"
   ]
  },
  {
   "cell_type": "markdown",
   "id": "6e1f8d9d",
   "metadata": {},
   "source": [
    "In der nächsten Vorlesung werden wir Algorithmen implementieren, um den kürzesten Weg zwischen zwei Orten auf der Karte zu finden.\n",
    "Hiefür konnte man z.B. Dijkstra's Algorithmus oder A* Algorithmus verwenden und verschiedne Faktoren wie die Länge der Straße, die Geschwindigkeitsbegrenzung und ob die Straße eine Einbahnstraße ist, berücksichtigen."
   ]
  }
 ],
 "metadata": {
  "kernelspec": {
   "display_name": "Python 3",
   "language": "python",
   "name": "python3"
  },
  "language_info": {
   "codemirror_mode": {
    "name": "ipython",
    "version": 3
   },
   "file_extension": ".py",
   "mimetype": "text/x-python",
   "name": "python",
   "nbconvert_exporter": "python",
   "pygments_lexer": "ipython3",
   "version": "3.13.3"
  }
 },
 "nbformat": 4,
 "nbformat_minor": 5
}
